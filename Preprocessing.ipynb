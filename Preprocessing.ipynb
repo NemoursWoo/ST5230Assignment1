{
 "cells": [
  {
   "cell_type": "code",
   "execution_count": 1,
   "metadata": {},
   "outputs": [],
   "source": [
    "import numpy as np\n",
    "import pandas as pd\n",
    "import regex as re\n",
    "\"\"\"pip install contractions\"\"\"\n",
    "import contractions\n",
    "import string\n"
   ]
  },
  {
   "cell_type": "code",
   "execution_count": 2,
   "metadata": {},
   "outputs": [],
   "source": [
    "data = pd.read_csv(\"discharge.csv\",nrows=2000)"
   ]
  },
  {
   "cell_type": "code",
   "execution_count": 3,
   "metadata": {},
   "outputs": [],
   "source": [
    "#dropping unnecessary columns\n",
    "data = data.drop(columns= ['subject_id','hadm_id','note_type','charttime','storetime','note_id','note_seq'])  \n",
    "\n",
    "#removing new line characters from text\n",
    "data['text'] = data['text'].replace('\\n','', regex=True) \n",
    "\n",
    "#expanding contractions\n",
    "data['text'] = data['text'].apply(lambda txt:contractions.fix(txt)) \n",
    "\n",
    "#converting text to lower case\n",
    "data['text'] = data['text'].apply(lambda txt: txt.lower()) \n",
    "\n",
    "#removing unnecessary text\n",
    "data['text'] = data['text'].replace(' name: ___ unit no: ___ admission date: ___ discharge date: ___ date of birth: ___ ','',regex=True) \n",
    "data['text'] = data['text'].replace('followup instructions:___','',regex=True)  \n",
    "\n",
    "#removing numbers from text\n",
    "data['text'] = data['text'].str.replace(\"(\\s\\d+)+\\s\", \" \", regex=True)  \n",
    "data['text'] = data['text'].str.replace(r'\\d+', '', regex=True)\n",
    "\n",
    "#removing special characters from text\n",
    "data['text'] = data['text'].str.replace(\"[^A-Za-z0-9]+\", \" \", regex=True) \n",
    "\n",
    "#removing extra spaces from text\n",
    "data['text'] = data['text'].str.replace(\"\\s+\", \" \", regex=True) \n",
    "\n",
    "#removing special characters \"_ \",\"=\"\" from text\n",
    "data['text'] = data['text'].apply(lambda txt: re.sub('[%s]' % re.escape('_='),'',txt))  "
   ]
  },
  {
   "cell_type": "code",
   "execution_count": 4,
   "metadata": {},
   "outputs": [],
   "source": [
    "from nltk.corpus import stopwords\n",
    "#get the list of stopwords from NLTK library\n",
    "mystpwrd = stopwords.words('english') \n",
    "mystpwrd.remove('not')\n",
    "\n",
    "#custom stopwords\n",
    "custom_stopwords = {\"name\", \"unit\", \"no\", \"admission\", \"date\", \"discharge\", \"of\", \"birth\", \"sex\", \"service\", \"or\", \"and\", \"known\", \"with\", \"this\", \"is\", \"attending\"}\n",
    "mystpwrd = mystpwrd + list(custom_stopwords)\n",
    "\n",
    "#removing stopwords from text\n",
    "data['text'] = data['text'].apply(lambda txt: \" \".join([word for word in str(txt).split() if word not in mystpwrd]))\n"
   ]
  },
  {
   "cell_type": "markdown",
   "metadata": {},
   "source": [
    "https://www.analyticsvidhya.com/blog/2021/06/must-known-techniques-for-text-preprocessing-in-nlp/"
   ]
  },
  {
   "cell_type": "code",
   "execution_count": 5,
   "metadata": {},
   "outputs": [],
   "source": [
    "#Lemmatization of text\n",
    "#pip install nltk.stem\n",
    "\"\"\"import nltk\n",
    "nltk.download('wordnet')\"\"\"\n",
    "from nltk.stem import WordNetLemmatizer\n",
    "lemmatizer = WordNetLemmatizer()\n",
    "def lemmatize_words(text):\n",
    "    return \" \".join([lemmatizer.lemmatize(word) for word in text.split()])\n",
    "data[\"text\"] = data[\"text\"].apply(lambda text: lemmatize_words(text))"
   ]
  },
  {
   "cell_type": "code",
   "execution_count": 6,
   "metadata": {},
   "outputs": [],
   "source": [
    "data.to_csv('Preprocessing_discharge.csv', index=False) "
   ]
  }
 ],
 "metadata": {
  "interpreter": {
   "hash": "ac59ebe37160ed0dfa835113d9b8498d9f09ceb179beaac4002f036b9467c963"
  },
  "kernelspec": {
   "display_name": "Python 3.9.2 64-bit",
   "language": "python",
   "name": "python3"
  },
  "language_info": {
   "codemirror_mode": {
    "name": "ipython",
    "version": 3
   },
   "file_extension": ".py",
   "mimetype": "text/x-python",
   "name": "python",
   "nbconvert_exporter": "python",
   "pygments_lexer": "ipython3",
   "version": "3.10.16"
  },
  "orig_nbformat": 4
 },
 "nbformat": 4,
 "nbformat_minor": 2
}
